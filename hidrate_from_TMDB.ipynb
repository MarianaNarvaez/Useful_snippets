{
 "cells": [
  {
   "cell_type": "code",
   "execution_count": 1,
   "id": "6b1d39a7",
   "metadata": {},
   "outputs": [],
   "source": [
    "import requests as rq\n",
    "import pandas as pd"
   ]
  },
  {
   "cell_type": "code",
   "execution_count": 2,
   "id": "96548f83",
   "metadata": {},
   "outputs": [],
   "source": [
    "df = pd.read_csv(filepath_or_buffer='catalogo.csv',skiprows = 2, names = ['title', 'activo', 'provider', 'ranking','None','type'])"
   ]
  },
  {
   "cell_type": "code",
   "execution_count": 3,
   "id": "4d7bda91",
   "metadata": {},
   "outputs": [],
   "source": [
    "df['clean_title'] = df['title'].apply(lambda x: x.split('(')[0])"
   ]
  },
  {
   "cell_type": "code",
   "execution_count": 4,
   "id": "0792e408",
   "metadata": {},
   "outputs": [],
   "source": [
    "df['clean_title'] = df['clean_title'].apply(lambda x: x.split(':')[0])"
   ]
  },
  {
   "cell_type": "code",
   "execution_count": 5,
   "id": "d6ee3338",
   "metadata": {},
   "outputs": [],
   "source": [
    "df['clean_title'] = df['clean_title'].apply(lambda x: x.split('/')[0])"
   ]
  },
  {
   "cell_type": "code",
   "execution_count": 6,
   "id": "dd7b8615",
   "metadata": {},
   "outputs": [],
   "source": [
    "df['clean_title'] = df['clean_title'].apply(lambda x: x.split('season')[0])"
   ]
  },
  {
   "cell_type": "code",
   "execution_count": 7,
   "id": "a8ecc1b1",
   "metadata": {},
   "outputs": [],
   "source": [
    "df['clean_title'] = df['clean_title'].apply(lambda x: x.split('Season')[0])"
   ]
  },
  {
   "cell_type": "code",
   "execution_count": 8,
   "id": "2b2902e7",
   "metadata": {},
   "outputs": [
    {
     "data": {
      "text/plain": [
       "(841, 7)"
      ]
     },
     "execution_count": 8,
     "metadata": {},
     "output_type": "execute_result"
    }
   ],
   "source": [
    "df.shape"
   ]
  },
  {
   "cell_type": "code",
   "execution_count": 9,
   "id": "f821c116",
   "metadata": {},
   "outputs": [],
   "source": [
    "tmdb_url = \"https://api.themoviedb.org/3/search/multi?api_key=73380b032ab105b01601564aeebe2f56&language=en-US&page=1&query=\""
   ]
  },
  {
   "cell_type": "code",
   "execution_count": 10,
   "id": "a4d86b02",
   "metadata": {},
   "outputs": [],
   "source": [
    "empty_key = {  \"backdrop_path\":None,\n",
    "               \"first_air_date\":None,\n",
    "               \"genre_ids\":None,\n",
    "               \"id\":None,\n",
    "               \"media_type\":None,\n",
    "               \"name\":None,\n",
    "               \"origin_country\":None,\n",
    "               \"original_language\":None,\n",
    "               \"original_name\":None,\n",
    "               \"overview\":None,\n",
    "               \"popularity\":None,\n",
    "               \"poster_path\":None,\n",
    "               \"vote_average\":None,\n",
    "               \"vote_count\":None}"
   ]
  },
  {
   "cell_type": "code",
   "execution_count": 11,
   "id": "2fa60371",
   "metadata": {},
   "outputs": [],
   "source": [
    "def get_metadata(title):\n",
    "    resp = rq.get(tmdb_url+title)\n",
    "    if resp.status_code==200:\n",
    "        json = resp.json()\n",
    "        result = json['results'][0] if 'results' in json and len(json['results']) > 0 else empty_key\n",
    "    else:\n",
    "        result = empty_key\n",
    "    return result"
   ]
  },
  {
   "cell_type": "code",
   "execution_count": 12,
   "id": "d3cdb19e",
   "metadata": {},
   "outputs": [],
   "source": [
    "meta_data = []\n",
    "for index, row in df.iterrows():\n",
    "    title = df[\"clean_title\"][index]\n",
    "    meta_data.append(get_metadata(title))"
   ]
  },
  {
   "cell_type": "code",
   "execution_count": 13,
   "id": "a5fa089b",
   "metadata": {},
   "outputs": [
    {
     "data": {
      "text/plain": [
       "841"
      ]
     },
     "execution_count": 13,
     "metadata": {},
     "output_type": "execute_result"
    }
   ],
   "source": [
    "len(meta_data)"
   ]
  },
  {
   "cell_type": "code",
   "execution_count": 14,
   "id": "52735069",
   "metadata": {},
   "outputs": [],
   "source": [
    "meta_df = pd.DataFrame.from_dict(meta_data)"
   ]
  },
  {
   "cell_type": "code",
   "execution_count": 15,
   "id": "270955e3",
   "metadata": {},
   "outputs": [
    {
     "data": {
      "text/plain": [
       "667"
      ]
     },
     "execution_count": 15,
     "metadata": {},
     "output_type": "execute_result"
    }
   ],
   "source": [
    "meta_df.id.count()"
   ]
  },
  {
   "cell_type": "code",
   "execution_count": 16,
   "id": "ffdd96ca",
   "metadata": {},
   "outputs": [
    {
     "data": {
      "text/plain": [
       "(841, 7)"
      ]
     },
     "execution_count": 16,
     "metadata": {},
     "output_type": "execute_result"
    }
   ],
   "source": [
    "df.shape"
   ]
  },
  {
   "cell_type": "code",
   "execution_count": 17,
   "id": "ae6aaca6",
   "metadata": {},
   "outputs": [
    {
     "data": {
      "text/plain": [
       "(841, 23)"
      ]
     },
     "execution_count": 17,
     "metadata": {},
     "output_type": "execute_result"
    }
   ],
   "source": [
    "meta_df.shape"
   ]
  },
  {
   "cell_type": "code",
   "execution_count": 19,
   "id": "9948e8eb",
   "metadata": {},
   "outputs": [],
   "source": [
    "final_df = pd.concat([df, meta_df],axis=1)"
   ]
  },
  {
   "cell_type": "code",
   "execution_count": 20,
   "id": "26502310",
   "metadata": {},
   "outputs": [
    {
     "data": {
      "text/plain": [
       "(841, 30)"
      ]
     },
     "execution_count": 20,
     "metadata": {},
     "output_type": "execute_result"
    }
   ],
   "source": [
    "final_df.shape"
   ]
  },
  {
   "cell_type": "code",
   "execution_count": 33,
   "id": "8f77a493",
   "metadata": {},
   "outputs": [
    {
     "data": {
      "text/html": [
       "<div>\n",
       "<style scoped>\n",
       "    .dataframe tbody tr th:only-of-type {\n",
       "        vertical-align: middle;\n",
       "    }\n",
       "\n",
       "    .dataframe tbody tr th {\n",
       "        vertical-align: top;\n",
       "    }\n",
       "\n",
       "    .dataframe thead th {\n",
       "        text-align: right;\n",
       "    }\n",
       "</style>\n",
       "<table border=\"1\" class=\"dataframe\">\n",
       "  <thead>\n",
       "    <tr style=\"text-align: right;\">\n",
       "      <th></th>\n",
       "      <th>title</th>\n",
       "      <th>title</th>\n",
       "      <th>clean_title</th>\n",
       "      <th>name</th>\n",
       "      <th>id</th>\n",
       "    </tr>\n",
       "  </thead>\n",
       "  <tbody>\n",
       "    <tr>\n",
       "      <th>0</th>\n",
       "      <td>Andy's Dinosaur Adventures (20 x 15') - Worldwide</td>\n",
       "      <td>NaN</td>\n",
       "      <td>Andy's Dinosaur Adventures</td>\n",
       "      <td>Andy's Dinosaur Adventures</td>\n",
       "      <td>95548.0</td>\n",
       "    </tr>\n",
       "    <tr>\n",
       "      <th>1</th>\n",
       "      <td>Andy's Wild Adventures (40 x 15') - Worldwide</td>\n",
       "      <td>NaN</td>\n",
       "      <td>Andy's Wild Adventures</td>\n",
       "      <td>Andy's Wild Adventures</td>\n",
       "      <td>94897.0</td>\n",
       "    </tr>\n",
       "    <tr>\n",
       "      <th>2</th>\n",
       "      <td>Fierce Earth: Series 001 (10 x 30') - Broadcast</td>\n",
       "      <td>NaN</td>\n",
       "      <td>Fierce Earth</td>\n",
       "      <td>Fierce Earth</td>\n",
       "      <td>55744.0</td>\n",
       "    </tr>\n",
       "    <tr>\n",
       "      <th>3</th>\n",
       "      <td>Gigglebiz: Series 003 (25 x 15') - Broadcast</td>\n",
       "      <td>NaN</td>\n",
       "      <td>Gigglebiz</td>\n",
       "      <td>Gigglebiz</td>\n",
       "      <td>38143.0</td>\n",
       "    </tr>\n",
       "    <tr>\n",
       "      <th>4</th>\n",
       "      <td>Horrible Histories: Series 004 (15 x 30') - Edit</td>\n",
       "      <td>NaN</td>\n",
       "      <td>Horrible Histories</td>\n",
       "      <td>Horrible Histories</td>\n",
       "      <td>32419.0</td>\n",
       "    </tr>\n",
       "    <tr>\n",
       "      <th>5</th>\n",
       "      <td>Horrible Histories: Series 005 (13 x 30') - Br...</td>\n",
       "      <td>NaN</td>\n",
       "      <td>Horrible Histories</td>\n",
       "      <td>Horrible Histories</td>\n",
       "      <td>32419.0</td>\n",
       "    </tr>\n",
       "    <tr>\n",
       "      <th>6</th>\n",
       "      <td>Katie Morag: Series 001 (26 x 15') - Broadcast</td>\n",
       "      <td>NaN</td>\n",
       "      <td>Katie Morag</td>\n",
       "      <td>Katie Morag</td>\n",
       "      <td>122987.0</td>\n",
       "    </tr>\n",
       "    <tr>\n",
       "      <th>7</th>\n",
       "      <td>Katie Morag: Series 002 (12 x 15' &amp; 1 x 30') -...</td>\n",
       "      <td>NaN</td>\n",
       "      <td>Katie Morag</td>\n",
       "      <td>Katie Morag</td>\n",
       "      <td>122987.0</td>\n",
       "    </tr>\n",
       "    <tr>\n",
       "      <th>8</th>\n",
       "      <td>Kit and Pup (52 x 6') - Edit</td>\n",
       "      <td>NaN</td>\n",
       "      <td>Kit and Pup</td>\n",
       "      <td>None</td>\n",
       "      <td>NaN</td>\n",
       "    </tr>\n",
       "    <tr>\n",
       "      <th>9</th>\n",
       "      <td>Mr Bloom's Nursery: Series 003: Get Set Grow! ...</td>\n",
       "      <td>NaN</td>\n",
       "      <td>Mr Bloom's Nursery</td>\n",
       "      <td>Mr Bloom's Nursery</td>\n",
       "      <td>38304.0</td>\n",
       "    </tr>\n",
       "    <tr>\n",
       "      <th>10</th>\n",
       "      <td>Mr Bloom's Nursery: Special: Christmas 2012: H...</td>\n",
       "      <td>NaN</td>\n",
       "      <td>Mr Bloom's Nursery</td>\n",
       "      <td>Mr Bloom's Nursery</td>\n",
       "      <td>38304.0</td>\n",
       "    </tr>\n",
       "    <tr>\n",
       "      <th>11</th>\n",
       "      <td>Mr Bloom's Nursery: Special: Combined Harveste...</td>\n",
       "      <td>NaN</td>\n",
       "      <td>Mr Bloom's Nursery</td>\n",
       "      <td>Mr Bloom's Nursery</td>\n",
       "      <td>38304.0</td>\n",
       "    </tr>\n",
       "    <tr>\n",
       "      <th>12</th>\n",
       "      <td>My Pet and Me: Series 001 (25 x 15') - Broadcast</td>\n",
       "      <td>NaN</td>\n",
       "      <td>My Pet and Me</td>\n",
       "      <td>My Pet and Me</td>\n",
       "      <td>131502.0</td>\n",
       "    </tr>\n",
       "    <tr>\n",
       "      <th>13</th>\n",
       "      <td>My Pet and Me: Series 002 (20 x 15') - Broadcast</td>\n",
       "      <td>NaN</td>\n",
       "      <td>My Pet and Me</td>\n",
       "      <td>My Pet and Me</td>\n",
       "      <td>131502.0</td>\n",
       "    </tr>\n",
       "    <tr>\n",
       "      <th>14</th>\n",
       "      <td>My Pet and Me: Special: Christmas 2014: Reinde...</td>\n",
       "      <td>NaN</td>\n",
       "      <td>My Pet and Me</td>\n",
       "      <td>My Pet and Me</td>\n",
       "      <td>131502.0</td>\n",
       "    </tr>\n",
       "    <tr>\n",
       "      <th>15</th>\n",
       "      <td>My Pet and Me: Special: Malawi (2 x 15') - Bro...</td>\n",
       "      <td>NaN</td>\n",
       "      <td>My Pet and Me</td>\n",
       "      <td>My Pet and Me</td>\n",
       "      <td>131502.0</td>\n",
       "    </tr>\n",
       "    <tr>\n",
       "      <th>16</th>\n",
       "      <td>My Pet And Me: Vet Tales: Series 002 (25 x 15'...</td>\n",
       "      <td>NaN</td>\n",
       "      <td>My Pet And Me</td>\n",
       "      <td>My Pet and Me</td>\n",
       "      <td>131502.0</td>\n",
       "    </tr>\n",
       "    <tr>\n",
       "      <th>17</th>\n",
       "      <td>My World Kitchen: Series 002 (15 x 12') - Edit</td>\n",
       "      <td>NaN</td>\n",
       "      <td>My World Kitchen</td>\n",
       "      <td>My World Kitchen</td>\n",
       "      <td>121353.0</td>\n",
       "    </tr>\n",
       "    <tr>\n",
       "      <th>18</th>\n",
       "      <td>My World Kitchen: Series 003 (15 x 11') - Edit</td>\n",
       "      <td>NaN</td>\n",
       "      <td>My World Kitchen</td>\n",
       "      <td>My World Kitchen</td>\n",
       "      <td>121353.0</td>\n",
       "    </tr>\n",
       "    <tr>\n",
       "      <th>19</th>\n",
       "      <td>Nelly and Nora (52 x 8') - Broadcast</td>\n",
       "      <td>NaN</td>\n",
       "      <td>Nelly and Nora</td>\n",
       "      <td>Nelly &amp; Nora</td>\n",
       "      <td>79766.0</td>\n",
       "    </tr>\n",
       "  </tbody>\n",
       "</table>\n",
       "</div>"
      ],
      "text/plain": [
       "                                                title title  \\\n",
       "0   Andy's Dinosaur Adventures (20 x 15') - Worldwide   NaN   \n",
       "1       Andy's Wild Adventures (40 x 15') - Worldwide   NaN   \n",
       "2     Fierce Earth: Series 001 (10 x 30') - Broadcast   NaN   \n",
       "3        Gigglebiz: Series 003 (25 x 15') - Broadcast   NaN   \n",
       "4    Horrible Histories: Series 004 (15 x 30') - Edit   NaN   \n",
       "5   Horrible Histories: Series 005 (13 x 30') - Br...   NaN   \n",
       "6      Katie Morag: Series 001 (26 x 15') - Broadcast   NaN   \n",
       "7   Katie Morag: Series 002 (12 x 15' & 1 x 30') -...   NaN   \n",
       "8                        Kit and Pup (52 x 6') - Edit   NaN   \n",
       "9   Mr Bloom's Nursery: Series 003: Get Set Grow! ...   NaN   \n",
       "10  Mr Bloom's Nursery: Special: Christmas 2012: H...   NaN   \n",
       "11  Mr Bloom's Nursery: Special: Combined Harveste...   NaN   \n",
       "12   My Pet and Me: Series 001 (25 x 15') - Broadcast   NaN   \n",
       "13   My Pet and Me: Series 002 (20 x 15') - Broadcast   NaN   \n",
       "14  My Pet and Me: Special: Christmas 2014: Reinde...   NaN   \n",
       "15  My Pet and Me: Special: Malawi (2 x 15') - Bro...   NaN   \n",
       "16  My Pet And Me: Vet Tales: Series 002 (25 x 15'...   NaN   \n",
       "17     My World Kitchen: Series 002 (15 x 12') - Edit   NaN   \n",
       "18     My World Kitchen: Series 003 (15 x 11') - Edit   NaN   \n",
       "19               Nelly and Nora (52 x 8') - Broadcast   NaN   \n",
       "\n",
       "                    clean_title                        name        id  \n",
       "0   Andy's Dinosaur Adventures   Andy's Dinosaur Adventures   95548.0  \n",
       "1       Andy's Wild Adventures       Andy's Wild Adventures   94897.0  \n",
       "2                  Fierce Earth                Fierce Earth   55744.0  \n",
       "3                     Gigglebiz                   Gigglebiz   38143.0  \n",
       "4            Horrible Histories          Horrible Histories   32419.0  \n",
       "5            Horrible Histories          Horrible Histories   32419.0  \n",
       "6                   Katie Morag                 Katie Morag  122987.0  \n",
       "7                   Katie Morag                 Katie Morag  122987.0  \n",
       "8                  Kit and Pup                         None       NaN  \n",
       "9            Mr Bloom's Nursery          Mr Bloom's Nursery   38304.0  \n",
       "10           Mr Bloom's Nursery          Mr Bloom's Nursery   38304.0  \n",
       "11           Mr Bloom's Nursery          Mr Bloom's Nursery   38304.0  \n",
       "12                My Pet and Me               My Pet and Me  131502.0  \n",
       "13                My Pet and Me               My Pet and Me  131502.0  \n",
       "14                My Pet and Me               My Pet and Me  131502.0  \n",
       "15                My Pet and Me               My Pet and Me  131502.0  \n",
       "16                My Pet And Me               My Pet and Me  131502.0  \n",
       "17             My World Kitchen            My World Kitchen  121353.0  \n",
       "18             My World Kitchen            My World Kitchen  121353.0  \n",
       "19              Nelly and Nora                 Nelly & Nora   79766.0  "
      ]
     },
     "execution_count": 33,
     "metadata": {},
     "output_type": "execute_result"
    }
   ],
   "source": [
    "final_df[['title','clean_title','name','id']].head(20)"
   ]
  },
  {
   "cell_type": "code",
   "execution_count": 26,
   "id": "6902f598",
   "metadata": {},
   "outputs": [],
   "source": [
    "final_df.to_csv('catalogo_hidratado.csv')"
   ]
  },
  {
   "cell_type": "code",
   "execution_count": null,
   "id": "4017b0c7",
   "metadata": {},
   "outputs": [],
   "source": []
  }
 ],
 "metadata": {
  "kernelspec": {
   "display_name": "Python 3 (ipykernel)",
   "language": "python",
   "name": "python3"
  },
  "language_info": {
   "codemirror_mode": {
    "name": "ipython",
    "version": 3
   },
   "file_extension": ".py",
   "mimetype": "text/x-python",
   "name": "python",
   "nbconvert_exporter": "python",
   "pygments_lexer": "ipython3",
   "version": "3.7.4"
  }
 },
 "nbformat": 4,
 "nbformat_minor": 5
}
